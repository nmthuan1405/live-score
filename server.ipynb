{
 "metadata": {
  "language_info": {
   "codemirror_mode": {
    "name": "ipython",
    "version": 3
   },
   "file_extension": ".py",
   "mimetype": "text/x-python",
   "name": "python",
   "nbconvert_exporter": "python",
   "pygments_lexer": "ipython3",
   "version": "3.9.5"
  },
  "orig_nbformat": 2,
  "kernelspec": {
   "name": "python395jvsc74a57bd0ce1e901da04acbe50dd99cd0d91cb411cb2166c3507dec81ce620981a8df4741",
   "display_name": "Python 3.9.5 64-bit"
  },
  "metadata": {
   "interpreter": {
    "hash": "ce1e901da04acbe50dd99cd0d91cb411cb2166c3507dec81ce620981a8df4741"
   }
  }
 },
 "nbformat": 4,
 "nbformat_minor": 2,
 "cells": [
  {
   "cell_type": "code",
   "execution_count": 2,
   "metadata": {
    "tags": []
   },
   "outputs": [
    {
     "output_type": "stream",
     "name": "stderr",
     "text": [
      "Exception in thread Thread-10:\nTraceback (most recent call last):\n  File \"c:\\Users\\thuan\\Documents\\GitHub\\Live-Score\\server.py\", line 128, in services\n    flag = self.recv_str()\n  File \"c:\\Users\\thuan\\Documents\\GitHub\\Live-Score\\server.py\", line 222, in recv_str\n    return self.recv_until().decode()\n  File \"c:\\Users\\thuan\\Documents\\GitHub\\Live-Score\\server.py\", line 205, in recv_until\n    self.buff += self.socket.recv(1024)\nAttributeError: 'NoneType' object has no attribute 'recv'\n\nDuring handling of the above exception, another exception occurred:\n\nTraceback (most recent call last):\n  File \"C:\\Program Files\\WindowsApps\\PythonSoftwareFoundation.Python.3.9_3.9.1520.0_x64__qbz5n2kfra8p0\\lib\\threading.py\", line 954, in _bootstrap_inner\n    self.run()\n  File \"C:\\Program Files\\WindowsApps\\PythonSoftwareFoundation.Python.3.9_3.9.1520.0_x64__qbz5n2kfra8p0\\lib\\threading.py\", line 892, in run\n    self._target(*self._args, **self._kwargs)\n  File \"c:\\Users\\thuan\\Documents\\GitHub\\Live-Score\\server.py\", line 186, in services\n    self.clientCount -= 1\nTypeError: unsupported operand type(s) for -=: 'list' and 'int'\n"
     ]
    }
   ],
   "source": [
    "from tkinter import *\n",
    "import tkinter as tk\n",
    "from tkinter.messagebox import askokcancel, showerror\n",
    "from tkinter import scrolledtext\n",
    "import server\n",
    "from queue import SimpleQueue\n",
    "\n",
    "class Server_GUI:\n",
    "    def __init__(self, master):\n",
    "        self.services = None\n",
    "        self.master = master\n",
    "        self.msg = SimpleQueue()\n",
    "        self.master.title(\"Server\")\n",
    "        self.master['padx'] = 15\n",
    "        self.master['pady'] = 15\n",
    "\n",
    "        self.btn_start = Button(self.master, text = \"Start Server\", font=(None, 12), width = 25, height = 3, command = self.start)\n",
    "        self.btn_start.grid(row = 0, column = 0, rowspan = 2, columnspan = 2, ipady = 5, sticky = W)\n",
    "\n",
    "        self.btn_clear = Button(self.master, text = \"Clear log\", width = 10, height = 1, command = self.clear)\n",
    "        self.btn_clear.grid(row = 0, column = 2, sticky = NE, ipady = 3)\n",
    "\n",
    "        self.btn_exit = Button(self.master, text = \"Exit\", width = 10, height = 1, command = self.exit)\n",
    "        self.btn_exit.grid(row = 1, column = 2, sticky = SE, ipady = 3)\n",
    "        \n",
    "        self.lbl_max = Label(self.master, text = \"Maximum number of Clients\")\n",
    "        self.lbl_max.grid(row = 0, column = 3, sticky = SE, pady = 2)\n",
    "\n",
    "        self.maxClients = tk.IntVar(value = 5)\n",
    "        self.spinmaxClients = tk.Spinbox(self.master, width = 3,font=(None, 12), from_=0, to=30, textvariable=self.maxClients, wrap=True)\n",
    "        self.spinmaxClients.grid(row = 1, column = 3, sticky = N, pady = 2)\n",
    "\n",
    "        self.lbl_log = Label(self.master, text = \"Activity log\")\n",
    "        self.lbl_log.grid(row = 2, column = 0, sticky = W)\n",
    "\n",
    "        self.result_area = scrolledtext.ScrolledText(self.master, wrap = tk.WORD, width = 60, height = 30, state = tk.DISABLED)\n",
    "        self.result_area.grid(row = 3, column = 0, columnspan = 4)\n",
    "\n",
    "\n",
    "        col_count, row_count = self.master.grid_size()\n",
    "        for col in range(col_count):\n",
    "            self.master.grid_columnconfigure(col, minsize = 50)\n",
    "        \n",
    "        for row in range(row_count):\n",
    "            self.master.grid_rowconfigure(row, minsize = 20)\n",
    "\n",
    "        self.master.protocol(\"WM_DELETE_WINDOW\", self.on_closing)\n",
    "\n",
    "        self.monitor_queue()\n",
    "\n",
    "    def monitor_queue(self):\n",
    "        while not self.msg.empty():\n",
    "            data = self.msg.get()\n",
    "            self.result_area.config(state='normal')\n",
    "            self.result_area.insert(INSERT, data + '\\n')\n",
    "            self.result_area.config(state='disabled')\n",
    "            self.result_area.see('end')\n",
    "\n",
    "        self.master.after(100, self.monitor_queue)\n",
    "\n",
    "    def start(self):\n",
    "        if self.services is None:\n",
    "            try:\n",
    "                self.services = server.Server(self.msg, int(self.spinmaxClients.get()))\n",
    "                self.services.start()\n",
    "            except:\n",
    "                self.services = None\n",
    "                showerror('Error', 'Unable to start server', parent = self.master)\n",
    "            else:\n",
    "                self.btn_start.config(text = \"Stop Server\")\n",
    "\n",
    "                self.spinmaxClients.config(state = 'disabled')\n",
    "\n",
    "        else:\n",
    "            count = self.services.countClient()\n",
    "            if count > 0 and not askokcancel(\"Stop\", f\"{count} client(s) is connecting.\\nDo you really want to stop server?\"):\n",
    "                return\n",
    "\n",
    "            self.services.stop()\n",
    "            self.services = None\n",
    "            \n",
    "            self.btn_start.config(text = \"Start Server\")\n",
    "\n",
    "            self.spinmaxClients.config(state = 'normal')\n",
    "\n",
    "    def clear(self):\n",
    "        self.result_area.config(state = 'normal')\n",
    "        self.result_area.delete(1.0, END)\n",
    "        self.result_area.config(state = 'disabled')\n",
    "\n",
    "    def exit(self):\n",
    "        self.on_closing()\n",
    "\n",
    "    def on_closing(self):\n",
    "        if self.services is not None:\n",
    "            if askokcancel(\"Quit\", \"Server is running.\\nDo you want to quit?\"):\n",
    "                count = self.services.countClient()\n",
    "                \n",
    "                if count > 0 and not askokcancel(\"Stop\", f\"{count} client(s) is connecting.\\nDo you really want to exit?\"):\n",
    "                    return\n",
    "\n",
    "                self.services.stop()\n",
    "            else:\n",
    "                return\n",
    "\n",
    "        self.master.destroy()\n",
    "\n",
    "\n",
    "window_server = Tk()\n",
    "Server_GUI(window_server)\n",
    "window_server.mainloop()\n"
   ]
  },
  {
   "cell_type": "code",
   "execution_count": 1,
   "metadata": {},
   "outputs": [],
   "source": [
    "if []:\n",
    "    print('a')"
   ]
  },
  {
   "cell_type": "code",
   "execution_count": 7,
   "metadata": {},
   "outputs": [
    {
     "output_type": "stream",
     "name": "stdout",
     "text": [
      "[1, None, None, None]\n"
     ]
    }
   ],
   "source": [
    "a= [None] * 4\n",
    "a[0] = 1\n",
    "print(a)"
   ]
  }
 ]
}